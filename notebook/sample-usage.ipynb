{
 "cells": [
  {
   "cell_type": "code",
   "execution_count": 1,
   "id": "a251ea50-7344-44f7-885c-0510239630f8",
   "metadata": {
    "pycharm": {
     "name": "#%%\n"
    }
   },
   "outputs": [],
   "source": [
    "# !pip install \"git+https://github.com/tranngocminhhieu/geo-api-vietnam.git#egg=geoapivietnam\"\n",
    "import pandas as pd\n",
    "from geoapivietnam import Correct, GetLocation"
   ]
  },
  {
   "cell_type": "markdown",
   "id": "6e2099fa-0ee2-41af-9784-082d0d7e48c8",
   "metadata": {
    "pycharm": {
     "name": "#%% md\n"
    }
   },
   "source": [
    "## Correct data\n",
    "The `correct_province` and `correct_district` functions help correct spelling errors in Province and District quickly. Accept multiple misspelling variations."
   ]
  },
  {
   "cell_type": "code",
   "execution_count": 2,
   "id": "93dbb574",
   "metadata": {
    "collapsed": false,
    "jupyter": {
     "outputs_hidden": false
    },
    "pycharm": {
     "name": "#%%\n"
    }
   },
   "outputs": [
    {
     "data": {
      "text/plain": [
       "'Hồ Chí Minh'"
      ]
     },
     "execution_count": 2,
     "metadata": {},
     "output_type": "execute_result"
    }
   ],
   "source": [
    "Correct().correct_province('hcm')"
   ]
  },
  {
   "cell_type": "code",
   "execution_count": 3,
   "id": "d3b689e4-94d3-4a76-bb99-65fd92cc2d7c",
   "metadata": {
    "pycharm": {
     "name": "#%%\n"
    }
   },
   "outputs": [
    {
     "data": {
      "text/plain": [
       "'Bà Rịa - Vũng Tàu'"
      ]
     },
     "execution_count": 3,
     "metadata": {},
     "output_type": "execute_result"
    }
   ],
   "source": [
    "Correct().correct_province('Vùng Tàu')"
   ]
  },
  {
   "cell_type": "code",
   "execution_count": 4,
   "id": "569a877f-aff0-4369-b758-e0e524a75057",
   "metadata": {
    "pycharm": {
     "name": "#%%\n"
    }
   },
   "outputs": [
    {
     "data": {
      "text/plain": [
       "'Hà Nội'"
      ]
     },
     "execution_count": 4,
     "metadata": {},
     "output_type": "execute_result"
    }
   ],
   "source": [
    "Correct().correct_province('Hanoi')"
   ]
  },
  {
   "cell_type": "code",
   "execution_count": 5,
   "id": "9bffad4a",
   "metadata": {
    "collapsed": false,
    "jupyter": {
     "outputs_hidden": false
    },
    "pycharm": {
     "name": "#%%\n"
    }
   },
   "outputs": [
    {
     "data": {
      "text/plain": [
       "'Huyện Nhà Bè'"
      ]
     },
     "execution_count": 5,
     "metadata": {},
     "output_type": "execute_result"
    }
   ],
   "source": [
    "Correct().correct_district('Hồ Chí Minh', 'Nhà Bé')"
   ]
  },
  {
   "cell_type": "code",
   "execution_count": 6,
   "id": "e65752ed",
   "metadata": {
    "collapsed": false,
    "jupyter": {
     "outputs_hidden": false
    },
    "pycharm": {
     "name": "#%%\n"
    }
   },
   "outputs": [
    {
     "data": {
      "text/plain": [
       "'Thành phố Phú Quốc'"
      ]
     },
     "execution_count": 6,
     "metadata": {},
     "output_type": "execute_result"
    }
   ],
   "source": [
    "Correct().correct_district('Kien Giang', 'Phù Quốc')"
   ]
  },
  {
   "cell_type": "markdown",
   "id": "2b82b39a-0afd-441c-818c-f2b62f2728fa",
   "metadata": {
    "pycharm": {
     "name": "#%% md\n"
    }
   },
   "source": [
    "## Get location\n",
    "\n",
    "This is the main function of the module, just provide search_term, and you will get an object location with the properties:\n",
    "\n",
    "- `address`: The address has been formatted correctly.\n",
    "- `province`: Province correct spelling.\n",
    "- `district`: District is spelled correctly.\n",
    "- `ward`: Ward is spelled correctly.\n",
    "- `latitude`: latitude of the address.\n",
    "- `longitude`: longitude of the address.\n",
    "- `source`: Origin of `original_address`, including Excel, SQLite, GeoPy, and Google Maps API.\n",
    "- `original_address`: Address from the above sources."
   ]
  },
  {
   "cell_type": "markdown",
   "id": "a1828964-9f4e-4261-b1a9-d5ff5f07d327",
   "metadata": {},
   "source": [
    "### Quick start"
   ]
  },
  {
   "cell_type": "markdown",
   "id": "f60333a1-57ae-4714-b942-c00db43393ef",
   "metadata": {},
   "source": [
    "We can get started quickly by assigning the `GetLocation()` class to a variable."
   ]
  },
  {
   "cell_type": "code",
   "execution_count": 7,
   "id": "a01b58f4",
   "metadata": {
    "collapsed": false,
    "jupyter": {
     "outputs_hidden": false
    },
    "pycharm": {
     "name": "#%%\n"
    }
   },
   "outputs": [],
   "source": [
    "get_location = GetLocation()"
   ]
  },
  {
   "cell_type": "markdown",
   "id": "3359d706-7d07-49b5-b09a-7973658507b7",
   "metadata": {},
   "source": [
    "Using the `get_location()` method to search, you can enter any **address** or **coordinates** in Vietnam."
   ]
  },
  {
   "cell_type": "code",
   "execution_count": 8,
   "id": "c8a27a71-168d-4ea9-91b1-0e3c613ebcaf",
   "metadata": {
    "pycharm": {
     "name": "#%%\n"
    }
   },
   "outputs": [],
   "source": [
    "my_location = get_location.get_location(search_term='21.0088528, 105.7439194')"
   ]
  },
  {
   "cell_type": "markdown",
   "id": "462f2db6-58a1-489b-ac0f-e2b6d0e120c6",
   "metadata": {},
   "source": [
    "You will get a location object like this."
   ]
  },
  {
   "cell_type": "code",
   "execution_count": 9,
   "id": "7493d3c0",
   "metadata": {
    "collapsed": false,
    "jupyter": {
     "outputs_hidden": false
    },
    "pycharm": {
     "name": "#%%\n"
    }
   },
   "outputs": [
    {
     "data": {
      "text/plain": [
       "address: Phường Tây Mỗ, Quận Nam Từ Liêm, Hà Nội, province: Hà Nội, district: Quận Nam Từ Liêm, ward: Phường Tây Mỗ, latitude: 21.0090732, longitude: 105.7423219, source: GeoPy, original_address: Vinhomes Smart City, Phường Tây Mỗ, Quận Nam Từ Liêm, Thành phố Hà Nội, Việt Nam"
      ]
     },
     "execution_count": 9,
     "metadata": {},
     "output_type": "execute_result"
    }
   ],
   "source": [
    "my_location"
   ]
  },
  {
   "cell_type": "markdown",
   "id": "84b12e9e-f21e-4f49-9009-262a674206db",
   "metadata": {},
   "source": [
    "Bạn có thể lấy từng phần ra bằng cách gọi thuộc tính của location."
   ]
  },
  {
   "cell_type": "code",
   "execution_count": 10,
   "id": "dfc0c0ac",
   "metadata": {
    "collapsed": false,
    "jupyter": {
     "outputs_hidden": false
    },
    "pycharm": {
     "name": "#%%\n"
    }
   },
   "outputs": [
    {
     "data": {
      "text/plain": [
       "'Phường Tây Mỗ, Quận Nam Từ Liêm, Hà Nội'"
      ]
     },
     "execution_count": 10,
     "metadata": {},
     "output_type": "execute_result"
    }
   ],
   "source": [
    "my_location.address"
   ]
  },
  {
   "cell_type": "code",
   "execution_count": 11,
   "id": "c6ca5086",
   "metadata": {
    "collapsed": false,
    "jupyter": {
     "outputs_hidden": false
    },
    "pycharm": {
     "name": "#%%\n"
    }
   },
   "outputs": [
    {
     "data": {
      "text/plain": [
       "'Hà Nội'"
      ]
     },
     "execution_count": 11,
     "metadata": {},
     "output_type": "execute_result"
    }
   ],
   "source": [
    "my_location.province"
   ]
  },
  {
   "cell_type": "code",
   "execution_count": 12,
   "id": "856bd949",
   "metadata": {
    "collapsed": false,
    "jupyter": {
     "outputs_hidden": false
    },
    "pycharm": {
     "name": "#%%\n"
    }
   },
   "outputs": [
    {
     "data": {
      "text/plain": [
       "'Quận Nam Từ Liêm'"
      ]
     },
     "execution_count": 12,
     "metadata": {},
     "output_type": "execute_result"
    }
   ],
   "source": [
    "my_location.district"
   ]
  },
  {
   "cell_type": "code",
   "execution_count": 13,
   "id": "42194e01",
   "metadata": {
    "collapsed": false,
    "jupyter": {
     "outputs_hidden": false
    },
    "pycharm": {
     "name": "#%%\n"
    }
   },
   "outputs": [
    {
     "data": {
      "text/plain": [
       "'Phường Tây Mỗ'"
      ]
     },
     "execution_count": 13,
     "metadata": {},
     "output_type": "execute_result"
    }
   ],
   "source": [
    "my_location.ward"
   ]
  },
  {
   "cell_type": "code",
   "execution_count": 14,
   "id": "a7103be0",
   "metadata": {
    "collapsed": false,
    "jupyter": {
     "outputs_hidden": false
    },
    "pycharm": {
     "name": "#%%\n"
    }
   },
   "outputs": [
    {
     "data": {
      "text/plain": [
       "21.0090732"
      ]
     },
     "execution_count": 14,
     "metadata": {},
     "output_type": "execute_result"
    }
   ],
   "source": [
    "my_location.latitude"
   ]
  },
  {
   "cell_type": "code",
   "execution_count": 15,
   "id": "1ed32662",
   "metadata": {
    "collapsed": false,
    "jupyter": {
     "outputs_hidden": false
    },
    "pycharm": {
     "name": "#%%\n"
    }
   },
   "outputs": [
    {
     "data": {
      "text/plain": [
       "105.7423219"
      ]
     },
     "execution_count": 15,
     "metadata": {},
     "output_type": "execute_result"
    }
   ],
   "source": [
    "my_location.longitude"
   ]
  },
  {
   "cell_type": "code",
   "execution_count": 16,
   "id": "1b8ee12b",
   "metadata": {
    "collapsed": false,
    "jupyter": {
     "outputs_hidden": false
    },
    "pycharm": {
     "name": "#%%\n"
    }
   },
   "outputs": [
    {
     "data": {
      "text/plain": [
       "'GeoPy'"
      ]
     },
     "execution_count": 16,
     "metadata": {},
     "output_type": "execute_result"
    }
   ],
   "source": [
    "my_location.source"
   ]
  },
  {
   "cell_type": "markdown",
   "id": "e6caa9f3-27fe-4a05-a77b-c3da60c02573",
   "metadata": {},
   "source": [
    "Use the `json_data` attribute if you need the data to be in the form of a dict."
   ]
  },
  {
   "cell_type": "code",
   "execution_count": 17,
   "id": "47b16852",
   "metadata": {
    "collapsed": false,
    "jupyter": {
     "outputs_hidden": false
    },
    "pycharm": {
     "name": "#%%\n"
    }
   },
   "outputs": [
    {
     "data": {
      "text/plain": [
       "{'address': 'Phường Tây Mỗ, Quận Nam Từ Liêm, Hà Nội',\n",
       " 'province': 'Hà Nội',\n",
       " 'district': 'Quận Nam Từ Liêm',\n",
       " 'ward': 'Phường Tây Mỗ',\n",
       " 'latitude': 21.0090732,\n",
       " 'longitude': 105.7423219,\n",
       " 'source': 'GeoPy',\n",
       " 'original_address': 'Vinhomes Smart City, Phường Tây Mỗ, Quận Nam Từ Liêm, Thành phố Hà Nội, Việt Nam'}"
      ]
     },
     "execution_count": 17,
     "metadata": {},
     "output_type": "execute_result"
    }
   ],
   "source": [
    "my_location.json_data"
   ]
  },
  {
   "cell_type": "markdown",
   "id": "ed4c2825-9842-4a19-96dc-0d89b9c64618",
   "metadata": {},
   "source": [
    "### Advanced usage"
   ]
  },
  {
   "cell_type": "markdown",
   "id": "2f639918-ffdc-409b-983f-87e1533873eb",
   "metadata": {},
   "source": [
    "Please use the params for GetLocation to improve efficiency.\n",
    "\n",
    "- `database`: The default is `'../data/data.db'`, this is the database file that stores the search queries that you used the **GeoPy** or **Google Maps API** for the first time (work for `get_location()` only). Later queries, the module will prioritize getting historical data in this database to improve performance.\n",
    "- `force_data_excel`: If you want to select a required location for a certain query, you can fill in this Excel file. Just enter the file name in the param, the module will create an Excel file with a template available for you.\n",
    "- `google_maps_api_key`: If the location cannot be found in SQLite and GeoPy, the module will use the Google Maps API to continue searching for the location for you.\n",
    "- `print_result`: There are a few small methods that will print information when used, you can choose `False` to turn it off.\n",
    "\n",
    "The order of location search is as follows:\n",
    "1. Excel\n",
    "2. SQLite\n",
    "3. GeoPy\n",
    "4. Google Maps\n"
   ]
  },
  {
   "cell_type": "code",
   "execution_count": 18,
   "id": "86c45d8f",
   "metadata": {
    "collapsed": false,
    "jupyter": {
     "outputs_hidden": false
    },
    "pycharm": {
     "name": "#%%\n"
    }
   },
   "outputs": [],
   "source": [
    "with open('../data/google_maps_api_key.txt', 'r') as f:\n",
    "    google_maps_api_key = f.read()"
   ]
  },
  {
   "cell_type": "code",
   "execution_count": 19,
   "id": "bf838d95",
   "metadata": {
    "collapsed": false,
    "jupyter": {
     "outputs_hidden": false
    },
    "pycharm": {
     "name": "#%%\n"
    }
   },
   "outputs": [],
   "source": [
    "get_location = GetLocation(database='../data/data.db', force_data_excel='../data/force_geo_location.xlsx', google_maps_api_key=google_maps_api_key)"
   ]
  },
  {
   "cell_type": "code",
   "execution_count": 20,
   "id": "e2165f0d-8ab6-4113-9d01-ebed937a28cf",
   "metadata": {
    "pycharm": {
     "name": "#%%\n"
    }
   },
   "outputs": [],
   "source": [
    "my_location = get_location.get_location('10.883449, 106.781429')"
   ]
  },
  {
   "cell_type": "code",
   "execution_count": 21,
   "id": "91757dfc",
   "metadata": {
    "collapsed": false,
    "jupyter": {
     "outputs_hidden": false
    },
    "pycharm": {
     "name": "#%%\n"
    }
   },
   "outputs": [
    {
     "data": {
      "text/plain": [
       "address: Thành phố Thủ Đức, Hồ Chí Minh, province: Hồ Chí Minh, district: Thành phố Thủ Đức, ward: None, latitude: None, longitude: None, source: Excel, original_address: Thành phố Thủ Đức, Hồ Chí Minh"
      ]
     },
     "execution_count": 21,
     "metadata": {},
     "output_type": "execute_result"
    }
   ],
   "source": [
    "my_location"
   ]
  },
  {
   "cell_type": "markdown",
   "id": "773db318-12cd-4006-b554-277c5585c1e2",
   "metadata": {},
   "source": [
    "### Some small methods\n",
    "\n",
    "Inside the `GetLocation()` class there are also some small methods that you may need."
   ]
  },
  {
   "cell_type": "code",
   "execution_count": 22,
   "id": "4482fd44-19fd-4b31-94ec-985957df4c5a",
   "metadata": {},
   "outputs": [
    {
     "data": {
      "text/plain": [
       "address: Thành phố Thủ Đức, Hồ Chí Minh, province: Hồ Chí Minh, district: Thành phố Thủ Đức, ward: None, latitude: None, longitude: None, source: Excel, original_address: Thành phố Thủ Đức, Hồ Chí Minh"
      ]
     },
     "execution_count": 22,
     "metadata": {},
     "output_type": "execute_result"
    }
   ],
   "source": [
    "get_location.excel_get_location('10.883449, 106.781429')"
   ]
  },
  {
   "cell_type": "code",
   "execution_count": 23,
   "id": "1fd8949a-88ea-4662-b4c4-e1598e8eedc7",
   "metadata": {},
   "outputs": [
    {
     "data": {
      "text/plain": [
       "address: Phường Tây Mỗ, Quận Nam Từ Liêm, Hà Nội, province: Hà Nội, district: Quận Nam Từ Liêm, ward: Phường Tây Mỗ, latitude: 21.0090732, longitude: 105.7423219, source: GeoPy (SQLite), original_address: Vinhomes Smart City, Phường Tây Mỗ, Quận Nam Từ Liêm, Thành phố Hà Nội, Việt Nam"
      ]
     },
     "execution_count": 23,
     "metadata": {},
     "output_type": "execute_result"
    }
   ],
   "source": [
    "get_location.sqlite_get_location('21.0088528, 105.7439194')"
   ]
  },
  {
   "cell_type": "code",
   "execution_count": 24,
   "id": "63d36fa6-71c7-4afe-b9fc-8459f12cf52e",
   "metadata": {},
   "outputs": [
    {
     "data": {
      "text/plain": [
       "address: Thành phố Phú Quốc, Kiên Giang, province: Kiên Giang, district: Thành phố Phú Quốc, ward: None, latitude: 10.2153093, longitude: 103.9880443, source: GeoPy, original_address: Thành phố Phú Quốc, Tỉnh Kiên Giang, Việt Nam"
      ]
     },
     "execution_count": 24,
     "metadata": {},
     "output_type": "execute_result"
    }
   ],
   "source": [
    "get_location.geopy_get_location('phu quoc kien giang')"
   ]
  },
  {
   "cell_type": "code",
   "execution_count": 25,
   "id": "a6538cbb-6fbc-4ebb-aaab-e62d665b219c",
   "metadata": {},
   "outputs": [
    {
     "data": {
      "text/plain": [
       "address: Thành phố Lai Châu, Lai Châu, province: Lai Châu, district: Thành phố Lai Châu, ward: None, latitude: 22.3862227, longitude: 103.4702631, source: Google, original_address: Lai Châu, Lai Chau, Vietnam"
      ]
     },
     "execution_count": 25,
     "metadata": {},
     "output_type": "execute_result"
    }
   ],
   "source": [
    "get_location.google_get_location('Lai Châu, Lai Châu')"
   ]
  },
  {
   "cell_type": "markdown",
   "id": "05988a73-be03-442c-8821-cc40bddd629a",
   "metadata": {
    "pycharm": {
     "name": "#%% md\n"
    }
   },
   "source": [
    "## Get valid district"
   ]
  },
  {
   "cell_type": "markdown",
   "id": "8eb8dd00-215e-44aa-9cab-63906610cbc1",
   "metadata": {},
   "source": [
    "This feature helps to search the district based on two input variables, province and district information."
   ]
  },
  {
   "cell_type": "code",
   "execution_count": 26,
   "id": "78ab427b",
   "metadata": {
    "collapsed": false,
    "jupyter": {
     "outputs_hidden": false
    },
    "pycharm": {
     "name": "#%%\n"
    }
   },
   "outputs": [
    {
     "name": "stdout",
     "output_type": "stream",
     "text": [
      "Quận Nam Từ Liêm district match with Hà Nội province perfect! (GeoPy (SQLite))\n"
     ]
    }
   ],
   "source": [
    "district = get_location.get_valid_district(province='Hà Nội', search_term='21.0088528, 105.7439194')"
   ]
  },
  {
   "cell_type": "code",
   "execution_count": 27,
   "id": "c35b63fd",
   "metadata": {
    "collapsed": false,
    "jupyter": {
     "outputs_hidden": false
    },
    "pycharm": {
     "name": "#%%\n"
    }
   },
   "outputs": [
    {
     "data": {
      "text/plain": [
       "'Quận Nam Từ Liêm'"
      ]
     },
     "execution_count": 27,
     "metadata": {},
     "output_type": "execute_result"
    }
   ],
   "source": [
    "district"
   ]
  },
  {
   "cell_type": "markdown",
   "id": "caa7b198-7a77-47af-996a-2de570f398b1",
   "metadata": {
    "pycharm": {
     "name": "#%% md\n"
    }
   },
   "source": [
    "### Work with dataframe\n",
    "\n",
    "For example we have a DataFrame as follows."
   ]
  },
  {
   "cell_type": "code",
   "execution_count": 28,
   "id": "19bb5e75-d6b4-4066-bf70-9ce804ad6867",
   "metadata": {
    "pycharm": {
     "name": "#%%\n"
    }
   },
   "outputs": [],
   "source": [
    "df = pd.DataFrame({'province':['Bắc Giảng', 'Kien Giang', 'Thua Thien - Hue', 'Kiên Giang'],\n",
    "                   'geo_district':['21.2586332292748, 105.976210111432',\n",
    "                                   '10.1487906083935, 103.998819739228',\n",
    "                                   '16.3668339187152, 107.704997146754',\n",
    "                                   '10.2262425, 103.9725849']})"
   ]
  },
  {
   "cell_type": "code",
   "execution_count": 29,
   "id": "a5ad6ac3-2e0b-4ded-839b-70d4bbd7c301",
   "metadata": {
    "pycharm": {
     "name": "#%%\n"
    }
   },
   "outputs": [
    {
     "data": {
      "text/html": [
       "<div>\n",
       "<style scoped>\n",
       "    .dataframe tbody tr th:only-of-type {\n",
       "        vertical-align: middle;\n",
       "    }\n",
       "\n",
       "    .dataframe tbody tr th {\n",
       "        vertical-align: top;\n",
       "    }\n",
       "\n",
       "    .dataframe thead th {\n",
       "        text-align: right;\n",
       "    }\n",
       "</style>\n",
       "<table border=\"1\" class=\"dataframe\">\n",
       "  <thead>\n",
       "    <tr style=\"text-align: right;\">\n",
       "      <th></th>\n",
       "      <th>province</th>\n",
       "      <th>geo_district</th>\n",
       "    </tr>\n",
       "  </thead>\n",
       "  <tbody>\n",
       "    <tr>\n",
       "      <th>0</th>\n",
       "      <td>Bắc Giảng</td>\n",
       "      <td>21.2586332292748, 105.976210111432</td>\n",
       "    </tr>\n",
       "    <tr>\n",
       "      <th>1</th>\n",
       "      <td>Kien Giang</td>\n",
       "      <td>10.1487906083935, 103.998819739228</td>\n",
       "    </tr>\n",
       "    <tr>\n",
       "      <th>2</th>\n",
       "      <td>Thua Thien - Hue</td>\n",
       "      <td>16.3668339187152, 107.704997146754</td>\n",
       "    </tr>\n",
       "    <tr>\n",
       "      <th>3</th>\n",
       "      <td>Kiên Giang</td>\n",
       "      <td>10.2262425, 103.9725849</td>\n",
       "    </tr>\n",
       "  </tbody>\n",
       "</table>\n",
       "</div>"
      ],
      "text/plain": [
       "           province                        geo_district\n",
       "0         Bắc Giảng  21.2586332292748, 105.976210111432\n",
       "1        Kien Giang  10.1487906083935, 103.998819739228\n",
       "2  Thua Thien - Hue  16.3668339187152, 107.704997146754\n",
       "3        Kiên Giang             10.2262425, 103.9725849"
      ]
     },
     "execution_count": 29,
     "metadata": {},
     "output_type": "execute_result"
    }
   ],
   "source": [
    "df"
   ]
  },
  {
   "cell_type": "markdown",
   "id": "c2bce709-86f7-4c84-958a-d2df2a53899c",
   "metadata": {},
   "source": [
    "As a first step, clean the `province` column."
   ]
  },
  {
   "cell_type": "code",
   "execution_count": 30,
   "id": "8c74c20a-4418-49c5-8d95-50cff59313b7",
   "metadata": {
    "pycharm": {
     "name": "#%%\n"
    }
   },
   "outputs": [],
   "source": [
    "df.province = df.province.apply(Correct().correct_province)"
   ]
  },
  {
   "cell_type": "code",
   "execution_count": 31,
   "id": "89bacd63",
   "metadata": {
    "collapsed": false,
    "jupyter": {
     "outputs_hidden": false
    },
    "pycharm": {
     "name": "#%%\n"
    }
   },
   "outputs": [
    {
     "data": {
      "text/html": [
       "<div>\n",
       "<style scoped>\n",
       "    .dataframe tbody tr th:only-of-type {\n",
       "        vertical-align: middle;\n",
       "    }\n",
       "\n",
       "    .dataframe tbody tr th {\n",
       "        vertical-align: top;\n",
       "    }\n",
       "\n",
       "    .dataframe thead th {\n",
       "        text-align: right;\n",
       "    }\n",
       "</style>\n",
       "<table border=\"1\" class=\"dataframe\">\n",
       "  <thead>\n",
       "    <tr style=\"text-align: right;\">\n",
       "      <th></th>\n",
       "      <th>province</th>\n",
       "      <th>geo_district</th>\n",
       "    </tr>\n",
       "  </thead>\n",
       "  <tbody>\n",
       "    <tr>\n",
       "      <th>0</th>\n",
       "      <td>Bắc Giang</td>\n",
       "      <td>21.2586332292748, 105.976210111432</td>\n",
       "    </tr>\n",
       "    <tr>\n",
       "      <th>1</th>\n",
       "      <td>Kiên Giang</td>\n",
       "      <td>10.1487906083935, 103.998819739228</td>\n",
       "    </tr>\n",
       "    <tr>\n",
       "      <th>2</th>\n",
       "      <td>Thừa Thiên Huế</td>\n",
       "      <td>16.3668339187152, 107.704997146754</td>\n",
       "    </tr>\n",
       "    <tr>\n",
       "      <th>3</th>\n",
       "      <td>Kiên Giang</td>\n",
       "      <td>10.2262425, 103.9725849</td>\n",
       "    </tr>\n",
       "  </tbody>\n",
       "</table>\n",
       "</div>"
      ],
      "text/plain": [
       "         province                        geo_district\n",
       "0       Bắc Giang  21.2586332292748, 105.976210111432\n",
       "1      Kiên Giang  10.1487906083935, 103.998819739228\n",
       "2  Thừa Thiên Huế  16.3668339187152, 107.704997146754\n",
       "3      Kiên Giang             10.2262425, 103.9725849"
      ]
     },
     "execution_count": 31,
     "metadata": {},
     "output_type": "execute_result"
    }
   ],
   "source": [
    "df"
   ]
  },
  {
   "cell_type": "markdown",
   "id": "80477ab9-6cb4-4ea4-b9c5-b9e6bcc7e3a7",
   "metadata": {},
   "source": [
    "Then use `apply` and `lambda` to create the `district` column."
   ]
  },
  {
   "cell_type": "code",
   "execution_count": 32,
   "id": "0974d35c-3365-4251-a962-67bd1a95ed11",
   "metadata": {
    "pycharm": {
     "name": "#%%\n"
    }
   },
   "outputs": [
    {
     "name": "stdout",
     "output_type": "stream",
     "text": [
      "Thành phố Bắc Giang district match with Bắc Giang province perfect! (GeoPy)\n",
      "Thành phố Phú Quốc district match with Kiên Giang province perfect! (Google)\n",
      "Thành phố Huế district match with Thừa Thiên Huế province perfect! (GeoPy)\n",
      "Thành phố Phú Quốc district match with Kiên Giang province perfect! (Google)\n"
     ]
    }
   ],
   "source": [
    "df['district'] = df.apply(lambda x: get_location.get_valid_district(province=x.province, search_term=x.geo_district), axis=1)"
   ]
  },
  {
   "cell_type": "code",
   "execution_count": 33,
   "id": "9eefb9c5-19db-40f9-b59b-299da08b24d6",
   "metadata": {
    "pycharm": {
     "name": "#%%\n"
    }
   },
   "outputs": [
    {
     "data": {
      "text/html": [
       "<div>\n",
       "<style scoped>\n",
       "    .dataframe tbody tr th:only-of-type {\n",
       "        vertical-align: middle;\n",
       "    }\n",
       "\n",
       "    .dataframe tbody tr th {\n",
       "        vertical-align: top;\n",
       "    }\n",
       "\n",
       "    .dataframe thead th {\n",
       "        text-align: right;\n",
       "    }\n",
       "</style>\n",
       "<table border=\"1\" class=\"dataframe\">\n",
       "  <thead>\n",
       "    <tr style=\"text-align: right;\">\n",
       "      <th></th>\n",
       "      <th>province</th>\n",
       "      <th>geo_district</th>\n",
       "      <th>district</th>\n",
       "    </tr>\n",
       "  </thead>\n",
       "  <tbody>\n",
       "    <tr>\n",
       "      <th>0</th>\n",
       "      <td>Bắc Giang</td>\n",
       "      <td>21.2586332292748, 105.976210111432</td>\n",
       "      <td>Thành phố Bắc Giang</td>\n",
       "    </tr>\n",
       "    <tr>\n",
       "      <th>1</th>\n",
       "      <td>Kiên Giang</td>\n",
       "      <td>10.1487906083935, 103.998819739228</td>\n",
       "      <td>Thành phố Phú Quốc</td>\n",
       "    </tr>\n",
       "    <tr>\n",
       "      <th>2</th>\n",
       "      <td>Thừa Thiên Huế</td>\n",
       "      <td>16.3668339187152, 107.704997146754</td>\n",
       "      <td>Thành phố Huế</td>\n",
       "    </tr>\n",
       "    <tr>\n",
       "      <th>3</th>\n",
       "      <td>Kiên Giang</td>\n",
       "      <td>10.2262425, 103.9725849</td>\n",
       "      <td>Thành phố Phú Quốc</td>\n",
       "    </tr>\n",
       "  </tbody>\n",
       "</table>\n",
       "</div>"
      ],
      "text/plain": [
       "         province                        geo_district             district\n",
       "0       Bắc Giang  21.2586332292748, 105.976210111432  Thành phố Bắc Giang\n",
       "1      Kiên Giang  10.1487906083935, 103.998819739228   Thành phố Phú Quốc\n",
       "2  Thừa Thiên Huế  16.3668339187152, 107.704997146754        Thành phố Huế\n",
       "3      Kiên Giang             10.2262425, 103.9725849   Thành phố Phú Quốc"
      ]
     },
     "execution_count": 33,
     "metadata": {},
     "output_type": "execute_result"
    }
   ],
   "source": [
    "df"
   ]
  }
 ],
 "metadata": {
  "kernelspec": {
   "display_name": "Python 3 (ipykernel)",
   "language": "python",
   "name": "python3"
  },
  "language_info": {
   "codemirror_mode": {
    "name": "ipython",
    "version": 3
   },
   "file_extension": ".py",
   "mimetype": "text/x-python",
   "name": "python",
   "nbconvert_exporter": "python",
   "pygments_lexer": "ipython3",
   "version": "3.9.13"
  }
 },
 "nbformat": 4,
 "nbformat_minor": 5
}
