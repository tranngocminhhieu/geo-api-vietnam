{
 "cells": [
  {
   "cell_type": "code",
   "execution_count": 1,
   "id": "a251ea50-7344-44f7-885c-0510239630f8",
   "metadata": {
    "pycharm": {
     "name": "#%%\n"
    }
   },
   "outputs": [],
   "source": [
    "# !pip install \"git+https://github.com/tranngocminhhieu/geo-api-vietnam.git#egg=geoapivietnam\"\n",
    "import pandas as pd\n",
    "from geoapivietnam import Correct, GetLocation"
   ]
  },
  {
   "cell_type": "markdown",
   "id": "6e2099fa-0ee2-41af-9784-082d0d7e48c8",
   "metadata": {
    "pycharm": {
     "name": "#%% md\n"
    }
   },
   "source": [
    "## Correct data"
   ]
  },
  {
   "cell_type": "code",
   "execution_count": 3,
   "outputs": [
    {
     "data": {
      "text/plain": "'Hồ Chí Minh'"
     },
     "execution_count": 3,
     "metadata": {},
     "output_type": "execute_result"
    }
   ],
   "source": [
    "Correct().correct_province('hcm')"
   ],
   "metadata": {
    "collapsed": false,
    "pycharm": {
     "name": "#%%\n"
    }
   }
  },
  {
   "cell_type": "code",
   "execution_count": 4,
   "id": "d3b689e4-94d3-4a76-bb99-65fd92cc2d7c",
   "metadata": {
    "pycharm": {
     "name": "#%%\n"
    }
   },
   "outputs": [
    {
     "data": {
      "text/plain": "'Bà Rịa - Vũng Tàu'"
     },
     "execution_count": 4,
     "metadata": {},
     "output_type": "execute_result"
    }
   ],
   "source": [
    "Correct().correct_province('Vùng Tàu')"
   ]
  },
  {
   "cell_type": "code",
   "execution_count": 5,
   "id": "569a877f-aff0-4369-b758-e0e524a75057",
   "metadata": {
    "pycharm": {
     "name": "#%%\n"
    }
   },
   "outputs": [
    {
     "data": {
      "text/plain": "'Hà Nội'"
     },
     "execution_count": 5,
     "metadata": {},
     "output_type": "execute_result"
    }
   ],
   "source": [
    "Correct().correct_province('Hanoi')"
   ]
  },
  {
   "cell_type": "code",
   "execution_count": 6,
   "outputs": [
    {
     "data": {
      "text/plain": "'Huyện Nhà Bè'"
     },
     "execution_count": 6,
     "metadata": {},
     "output_type": "execute_result"
    }
   ],
   "source": [
    "Correct().correct_district('Hồ Chí Minh', 'Nhà Bé')"
   ],
   "metadata": {
    "collapsed": false,
    "pycharm": {
     "name": "#%%\n"
    }
   }
  },
  {
   "cell_type": "code",
   "execution_count": 7,
   "outputs": [
    {
     "data": {
      "text/plain": "'Thành phố Phú Quốc'"
     },
     "execution_count": 7,
     "metadata": {},
     "output_type": "execute_result"
    }
   ],
   "source": [
    "Correct().correct_district('Kien Giang', 'Phú Quốc')"
   ],
   "metadata": {
    "collapsed": false,
    "pycharm": {
     "name": "#%%\n"
    }
   }
  },
  {
   "cell_type": "markdown",
   "id": "2b82b39a-0afd-441c-818c-f2b62f2728fa",
   "metadata": {
    "pycharm": {
     "name": "#%% md\n"
    }
   },
   "source": [
    "## Get address"
   ]
  },
  {
   "cell_type": "code",
   "execution_count": 8,
   "outputs": [],
   "source": [
    "get_location = GetLocation()"
   ],
   "metadata": {
    "collapsed": false,
    "pycharm": {
     "name": "#%%\n"
    }
   }
  },
  {
   "cell_type": "code",
   "execution_count": 9,
   "id": "c8a27a71-168d-4ea9-91b1-0e3c613ebcaf",
   "metadata": {
    "pycharm": {
     "name": "#%%\n"
    }
   },
   "outputs": [
    {
     "name": "stdout",
     "output_type": "stream",
     "text": [
      "SQLite: 21.0088528, 105.7439194 = Vinhomes Smart City, Phường Tây Mỗ, Quận Nam Từ Liêm, Thành phố Hà Nội, Việt Nam (by GeoPy)\n"
     ]
    }
   ],
   "source": [
    "address = get_location.get_address('21.0088528, 105.7439194')"
   ]
  },
  {
   "cell_type": "code",
   "execution_count": 10,
   "outputs": [
    {
     "data": {
      "text/plain": "'Vinhomes Smart City, Phường Tây Mỗ, Quận Nam Từ Liêm, Thành phố Hà Nội, Việt Nam (by GeoPy) (Saved data from SQlite)'"
     },
     "execution_count": 10,
     "metadata": {},
     "output_type": "execute_result"
    }
   ],
   "source": [
    "address"
   ],
   "metadata": {
    "collapsed": false,
    "pycharm": {
     "name": "#%%\n"
    }
   }
  },
  {
   "cell_type": "code",
   "execution_count": 11,
   "id": "7eb20ac9-4ed4-4be4-b550-f720699f3869",
   "metadata": {
    "pycharm": {
     "name": "#%%\n"
    }
   },
   "outputs": [],
   "source": [
    "address = get_location.get_address('Phú Quốc', print_result=False)"
   ]
  },
  {
   "cell_type": "code",
   "execution_count": 12,
   "outputs": [
    {
     "data": {
      "text/plain": "'Thành phố Phú Quốc, Tỉnh Kiên Giang, Việt Nam (by GeoPy) (Saved data from SQlite)'"
     },
     "execution_count": 12,
     "metadata": {},
     "output_type": "execute_result"
    }
   ],
   "source": [
    "address"
   ],
   "metadata": {
    "collapsed": false,
    "pycharm": {
     "name": "#%%\n"
    }
   }
  },
  {
   "cell_type": "code",
   "execution_count": 13,
   "outputs": [],
   "source": [
    "google_maps_api_key = 'Your Google Maps API key'"
   ],
   "metadata": {
    "collapsed": false,
    "pycharm": {
     "name": "#%%\n"
    }
   }
  },
  {
   "cell_type": "code",
   "execution_count": 14,
   "outputs": [],
   "source": [
    "get_location = GetLocation(database='../data/data.db', force_data_excel='../data/force_geo_location.xlsx', google_maps_api_key=google_maps_api_key, print_result=False)"
   ],
   "metadata": {
    "collapsed": false,
    "pycharm": {
     "name": "#%%\n"
    }
   }
  },
  {
   "cell_type": "code",
   "execution_count": 15,
   "id": "e2165f0d-8ab6-4113-9d01-ebed937a28cf",
   "metadata": {
    "pycharm": {
     "name": "#%%\n"
    }
   },
   "outputs": [],
   "source": [
    "address = get_location.get_address('10.883449, 106.781429')"
   ]
  },
  {
   "cell_type": "code",
   "execution_count": 16,
   "outputs": [
    {
     "data": {
      "text/plain": "'Thành phố Thủ Đức, Hồ Chí Minh (by Excel)'"
     },
     "execution_count": 16,
     "metadata": {},
     "output_type": "execute_result"
    }
   ],
   "source": [
    "address"
   ],
   "metadata": {
    "collapsed": false,
    "pycharm": {
     "name": "#%%\n"
    }
   }
  },
  {
   "cell_type": "markdown",
   "id": "05988a73-be03-442c-8821-cc40bddd629a",
   "metadata": {
    "pycharm": {
     "name": "#%% md\n"
    }
   },
   "source": [
    "## Get district"
   ]
  },
  {
   "cell_type": "code",
   "execution_count": 17,
   "outputs": [],
   "source": [
    "get_location = GetLocation()"
   ],
   "metadata": {
    "collapsed": false,
    "pycharm": {
     "name": "#%%\n"
    }
   }
  },
  {
   "cell_type": "code",
   "execution_count": 18,
   "outputs": [
    {
     "name": "stdout",
     "output_type": "stream",
     "text": [
      "SQLite: 21.0088528, 105.7439194 = Vinhomes Smart City, Phường Tây Mỗ, Quận Nam Từ Liêm, Thành phố Hà Nội, Việt Nam (by GeoPy)\n",
      "-> Quận Nam Từ Liêm district match with Hà Nội province perfect!\n"
     ]
    }
   ],
   "source": [
    "district = get_location.get_district(province='Hà Nội', search_term='21.0088528, 105.7439194')"
   ],
   "metadata": {
    "collapsed": false,
    "pycharm": {
     "name": "#%%\n"
    }
   }
  },
  {
   "cell_type": "code",
   "execution_count": 19,
   "outputs": [
    {
     "data": {
      "text/plain": "'Quận Nam Từ Liêm'"
     },
     "execution_count": 19,
     "metadata": {},
     "output_type": "execute_result"
    }
   ],
   "source": [
    "district"
   ],
   "metadata": {
    "collapsed": false,
    "pycharm": {
     "name": "#%%\n"
    }
   }
  },
  {
   "cell_type": "markdown",
   "id": "caa7b198-7a77-47af-996a-2de570f398b1",
   "metadata": {
    "pycharm": {
     "name": "#%% md\n"
    }
   },
   "source": [
    "## Work with dataframe"
   ]
  },
  {
   "cell_type": "code",
   "execution_count": 20,
   "id": "19bb5e75-d6b4-4066-bf70-9ce804ad6867",
   "metadata": {
    "pycharm": {
     "name": "#%%\n"
    }
   },
   "outputs": [],
   "source": [
    "df = pd.DataFrame({'province':['Bắc Giảng', 'Kien Giang', 'Thua Thien - Hue'],\n",
    "                   'geo_district':['21.2586332292748, 105.976210111432',\n",
    "                                   '10.1487906083935, 103.998819739228',\n",
    "                                   '16.3668339187152, 107.704997146754']})"
   ]
  },
  {
   "cell_type": "code",
   "execution_count": 21,
   "id": "a5ad6ac3-2e0b-4ded-839b-70d4bbd7c301",
   "metadata": {
    "pycharm": {
     "name": "#%%\n"
    }
   },
   "outputs": [
    {
     "data": {
      "text/plain": "           province                        geo_district\n0         Bắc Giảng  21.2586332292748, 105.976210111432\n1        Kien Giang  10.1487906083935, 103.998819739228\n2  Thua Thien - Hue  16.3668339187152, 107.704997146754",
      "text/html": "<div>\n<style scoped>\n    .dataframe tbody tr th:only-of-type {\n        vertical-align: middle;\n    }\n\n    .dataframe tbody tr th {\n        vertical-align: top;\n    }\n\n    .dataframe thead th {\n        text-align: right;\n    }\n</style>\n<table border=\"1\" class=\"dataframe\">\n  <thead>\n    <tr style=\"text-align: right;\">\n      <th></th>\n      <th>province</th>\n      <th>geo_district</th>\n    </tr>\n  </thead>\n  <tbody>\n    <tr>\n      <th>0</th>\n      <td>Bắc Giảng</td>\n      <td>21.2586332292748, 105.976210111432</td>\n    </tr>\n    <tr>\n      <th>1</th>\n      <td>Kien Giang</td>\n      <td>10.1487906083935, 103.998819739228</td>\n    </tr>\n    <tr>\n      <th>2</th>\n      <td>Thua Thien - Hue</td>\n      <td>16.3668339187152, 107.704997146754</td>\n    </tr>\n  </tbody>\n</table>\n</div>"
     },
     "execution_count": 21,
     "metadata": {},
     "output_type": "execute_result"
    }
   ],
   "source": [
    "df"
   ]
  },
  {
   "cell_type": "code",
   "execution_count": 22,
   "id": "8c74c20a-4418-49c5-8d95-50cff59313b7",
   "metadata": {
    "pycharm": {
     "name": "#%%\n"
    }
   },
   "outputs": [],
   "source": [
    "# Correct provinces\n",
    "df.province = df.province.apply(Correct().correct_province)"
   ]
  },
  {
   "cell_type": "code",
   "execution_count": 23,
   "outputs": [
    {
     "data": {
      "text/plain": "         province                        geo_district\n0       Bắc Giang  21.2586332292748, 105.976210111432\n1      Kiên Giang  10.1487906083935, 103.998819739228\n2  Thừa Thiên Huế  16.3668339187152, 107.704997146754",
      "text/html": "<div>\n<style scoped>\n    .dataframe tbody tr th:only-of-type {\n        vertical-align: middle;\n    }\n\n    .dataframe tbody tr th {\n        vertical-align: top;\n    }\n\n    .dataframe thead th {\n        text-align: right;\n    }\n</style>\n<table border=\"1\" class=\"dataframe\">\n  <thead>\n    <tr style=\"text-align: right;\">\n      <th></th>\n      <th>province</th>\n      <th>geo_district</th>\n    </tr>\n  </thead>\n  <tbody>\n    <tr>\n      <th>0</th>\n      <td>Bắc Giang</td>\n      <td>21.2586332292748, 105.976210111432</td>\n    </tr>\n    <tr>\n      <th>1</th>\n      <td>Kiên Giang</td>\n      <td>10.1487906083935, 103.998819739228</td>\n    </tr>\n    <tr>\n      <th>2</th>\n      <td>Thừa Thiên Huế</td>\n      <td>16.3668339187152, 107.704997146754</td>\n    </tr>\n  </tbody>\n</table>\n</div>"
     },
     "execution_count": 23,
     "metadata": {},
     "output_type": "execute_result"
    }
   ],
   "source": [
    "df"
   ],
   "metadata": {
    "collapsed": false,
    "pycharm": {
     "name": "#%%\n"
    }
   }
  },
  {
   "cell_type": "code",
   "execution_count": 24,
   "id": "0974d35c-3365-4251-a962-67bd1a95ed11",
   "metadata": {
    "pycharm": {
     "name": "#%%\n"
    }
   },
   "outputs": [
    {
     "name": "stdout",
     "output_type": "stream",
     "text": [
      "SQLite: 21.2586332292748, 105.976210111432 = Hiệp Hòa, Tỉnh Bắc Giang, Việt Nam (by GeoPy)\n",
      "-> Huyện Hiệp Hòa district match with Bắc Giang province perfect!\n",
      "SQLite: 10.1487906083935, 103.998819739228 = Xã Dương Tơ, Thành phố Phú Quốc, 92509, Việt Nam (by GeoPy)\n",
      "-> Thành phố Phú Quốc district match with Kiên Giang province when missing info!\n",
      "SQLite: 16.3668339187152, 107.704997146754 = An Nông, Thị xã Hương Thuỷ, Tỉnh Thừa Thiên Huế, 53000, Việt Nam (by GeoPy)\n",
      "-> Thị xã Hương Thủy district match with Thừa Thiên Huế province perfect!\n"
     ]
    }
   ],
   "source": [
    "df['district'] = df.apply(lambda x: get_location.get_district(province=x.province, search_term=x.geo_district), axis=1)"
   ]
  },
  {
   "cell_type": "code",
   "execution_count": 25,
   "id": "9eefb9c5-19db-40f9-b59b-299da08b24d6",
   "metadata": {
    "pycharm": {
     "name": "#%%\n"
    }
   },
   "outputs": [
    {
     "data": {
      "text/plain": "         province                        geo_district            district\n0       Bắc Giang  21.2586332292748, 105.976210111432      Huyện Hiệp Hòa\n1      Kiên Giang  10.1487906083935, 103.998819739228  Thành phố Phú Quốc\n2  Thừa Thiên Huế  16.3668339187152, 107.704997146754   Thị xã Hương Thủy",
      "text/html": "<div>\n<style scoped>\n    .dataframe tbody tr th:only-of-type {\n        vertical-align: middle;\n    }\n\n    .dataframe tbody tr th {\n        vertical-align: top;\n    }\n\n    .dataframe thead th {\n        text-align: right;\n    }\n</style>\n<table border=\"1\" class=\"dataframe\">\n  <thead>\n    <tr style=\"text-align: right;\">\n      <th></th>\n      <th>province</th>\n      <th>geo_district</th>\n      <th>district</th>\n    </tr>\n  </thead>\n  <tbody>\n    <tr>\n      <th>0</th>\n      <td>Bắc Giang</td>\n      <td>21.2586332292748, 105.976210111432</td>\n      <td>Huyện Hiệp Hòa</td>\n    </tr>\n    <tr>\n      <th>1</th>\n      <td>Kiên Giang</td>\n      <td>10.1487906083935, 103.998819739228</td>\n      <td>Thành phố Phú Quốc</td>\n    </tr>\n    <tr>\n      <th>2</th>\n      <td>Thừa Thiên Huế</td>\n      <td>16.3668339187152, 107.704997146754</td>\n      <td>Thị xã Hương Thủy</td>\n    </tr>\n  </tbody>\n</table>\n</div>"
     },
     "execution_count": 25,
     "metadata": {},
     "output_type": "execute_result"
    }
   ],
   "source": [
    "df"
   ]
  }
 ],
 "metadata": {
  "kernelspec": {
   "display_name": "Python 3 (ipykernel)",
   "language": "python",
   "name": "python3"
  },
  "language_info": {
   "codemirror_mode": {
    "name": "ipython",
    "version": 3
   },
   "file_extension": ".py",
   "mimetype": "text/x-python",
   "name": "python",
   "nbconvert_exporter": "python",
   "pygments_lexer": "ipython3",
   "version": "3.9.13"
  }
 },
 "nbformat": 4,
 "nbformat_minor": 5
}